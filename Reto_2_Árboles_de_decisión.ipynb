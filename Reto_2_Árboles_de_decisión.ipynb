{
  "nbformat": 4,
  "nbformat_minor": 0,
  "metadata": {
    "colab": {
      "provenance": [],
      "mount_file_id": "1uJTgOovotxFxNMp6BlctnugCZimSx0Ha",
      "authorship_tag": "ABX9TyN1q416HzFuhRzWfGA4M4e7",
      "include_colab_link": true
    },
    "kernelspec": {
      "name": "python3",
      "display_name": "Python 3"
    },
    "language_info": {
      "name": "python"
    }
  },
  "cells": [
    {
      "cell_type": "markdown",
      "metadata": {
        "id": "view-in-github",
        "colab_type": "text"
      },
      "source": [
        "<a href=\"https://colab.research.google.com/github/Manuelamejiah/Business-intelligence-/blob/main/Reto_2_%C3%81rboles_de_decisi%C3%B3n.ipynb\" target=\"_parent\"><img src=\"https://colab.research.google.com/assets/colab-badge.svg\" alt=\"Open In Colab\"/></a>"
      ]
    },
    {
      "cell_type": "code",
      "execution_count": null,
      "metadata": {
        "id": "ilkssE3j4C-w"
      },
      "outputs": [],
      "source": []
    },
    {
      "cell_type": "markdown",
      "source": [
        "**Árbol de decisión**"
      ],
      "metadata": {
        "id": "j95GOeP0KYRQ"
      }
    },
    {
      "cell_type": "code",
      "source": [
        "import pandas as pd\n",
        "import numpy as np\n",
        "\n",
        "#librerias arbol\n",
        "from sklearn.tree import DecisionTreeClassifier\n",
        "\n",
        "from sklearn.metrics import confusion_matrix\n",
        "\n",
        "#conectar al drive -> vamos a tener los archivos disponibles\n",
        "from google.colab import drive\n",
        "drive.mount('/content/drive')"
      ],
      "metadata": {
        "colab": {
          "base_uri": "https://localhost:8080/"
        },
        "id": "6ic-L_iYKwFL",
        "outputId": "7f7771ac-51da-436e-d094-205162ea2cda"
      },
      "execution_count": null,
      "outputs": [
        {
          "output_type": "stream",
          "name": "stdout",
          "text": [
            "Mounted at /content/drive\n"
          ]
        }
      ]
    },
    {
      "cell_type": "markdown",
      "source": [
        "1. **Se carga la base de datos**"
      ],
      "metadata": {
        "id": "Y-q6-TWcM-BP"
      }
    },
    {
      "cell_type": "code",
      "source": [
        "nxl='/content/drive/MyDrive/ANALÍTICA DE NEGOCIOS /2. CollegeAdmisions_Int_M.xlsx' #NXL SIGNIFICA NAME EXCEL\n",
        "XDB=pd.read_excel(nxl, sheet_name=0)\n",
        "XDB.head(100)\n",
        "total_datos = XDB.size\n",
        "print(f\"El número total de datos en el dataframe es: {total_datos}\")"
      ],
      "metadata": {
        "colab": {
          "base_uri": "https://localhost:8080/"
        },
        "id": "bIB8NHhCNCt0",
        "outputId": "c60f9647-d290-4fe7-8612-7c837d0c9066"
      },
      "execution_count": null,
      "outputs": [
        {
          "output_type": "stream",
          "name": "stdout",
          "text": [
            "El número total de datos en el dataframe es: 208068\n"
          ]
        }
      ]
    },
    {
      "cell_type": "markdown",
      "source": [
        "2. **Eliminamos datos fantantes y selecionamos variables a utilizar en el análisis**"
      ],
      "metadata": {
        "id": "s1LZ8H2bP8qE"
      }
    },
    {
      "cell_type": "code",
      "source": [
        "XDB = XDB.dropna()\n",
        "print('Número total de datos después de limpieza:', len(XDB))"
      ],
      "metadata": {
        "colab": {
          "base_uri": "https://localhost:8080/"
        },
        "id": "EzdUaeBNWyHm",
        "outputId": "75a7e1f3-1f2a-46b8-9868-72647084b864"
      },
      "execution_count": null,
      "outputs": [
        {
          "output_type": "stream",
          "name": "stdout",
          "text": [
            "Número total de datos después de limpieza: 1528\n"
          ]
        }
      ]
    },
    {
      "cell_type": "code",
      "source": [
        "XDB[\"Gender\"] = XDB[\"Gender\"].map({\"F\": 0, \"M\": 1})\n",
        "XDB[\"Admitted\"] = XDB[\"Admitted\"].map({\"No\": 0, \"Yes\": 1})\n",
        "\n",
        "# Seleccionar las variables\n",
        "XD = XDB[['Edu_Parent1', 'Edu_Parent2', 'Gender', 'White', 'Asian', 'HSGPA', 'SAT/ACT']]\n",
        "YD = XDB[['Admitted']]"
      ],
      "metadata": {
        "id": "H3SPZGSDWwbS"
      },
      "execution_count": null,
      "outputs": []
    },
    {
      "cell_type": "markdown",
      "source": [
        "A continuación, se hará una breve descripción de las variables seleccionadas para el análisis.\n",
        "Es importante tener en cuenta que la base de datos cuenta con 1528 datos después de una limpieza y que los estudiantes serán ddescritos en función de 7 variables\n",
        "\n",
        "* Edu_Parent1:Indica el nivel educativo alcanzado por el padre o tutor 1\n",
        "* Edu_Parent1:Indica el nivel educativo alcanzado por el padre o tutor 2\n",
        "* Gender: Indica el género del estudiante. En este caso, para femenino se identificará como 0 y masculino como 1\n",
        "* White: Indica si el estudiante se identifica como blanco. 0 será 'NO' y 1 será 'SI'\n",
        "* Asian: Indica si el estudiante se identifica como Asiático. 0 será 'NO' y 1 será 'SI'\n",
        "* HSPGA:  Promedio de calificaciones del estudiante en la escuela secundaria.\n",
        "* SAT/ACT: Puntaje que obtuvo el estudiante en los exámenes estandarizados SAT O ACT.\n",
        "\n",
        "Finalmente tendremos la variable de salida,\n",
        "* Admitted: determina si el estudiante fue admitido o no en la universidad\n"
      ],
      "metadata": {
        "id": "p9BxRUYxXE9j"
      }
    },
    {
      "cell_type": "markdown",
      "source": [
        "3. **Implementación del modelo**"
      ],
      "metadata": {
        "id": "ae7ZeM6Ua7lK"
      }
    },
    {
      "cell_type": "code",
      "source": [
        "mar=DecisionTreeClassifier(criterion='gini',max_depth=4)\n",
        "mar.fit(XD,YD)\n",
        "\n",
        "#se procede con la gráfica\n",
        "from pydotplus import graph_from_dot_data #me crea la gráfica\n",
        "from sklearn.tree import export_graphviz #me exporta a png, jpg, tiff\n",
        "\n",
        "ve= ['Edu_Parent1', 'Edu_Parent2', 'Gender', 'White', 'Asian', 'HSGPA', 'SAT/ACT']\n",
        "dot_data=export_graphviz(mar,feature_names=ve)\n",
        "graph_from_dot_data(dot_data).write_png('2. ArbolDeDecisión_M.png')\n"
      ],
      "metadata": {
        "colab": {
          "base_uri": "https://localhost:8080/"
        },
        "id": "6sPB7mQUa3OR",
        "outputId": "e15fb755-9233-4007-9b39-af8ed30d79ba"
      },
      "execution_count": null,
      "outputs": [
        {
          "output_type": "execute_result",
          "data": {
            "text/plain": [
              "True"
            ]
          },
          "metadata": {},
          "execution_count": 5
        }
      ]
    },
    {
      "cell_type": "code",
      "source": [
        "num_nodos_puros = sum(mar.tree_.impurity == 0)\n",
        "print(f\"El número de nodos puros en el árbol es {num_nodos_puros}  (Gini = 0,0):\")"
      ],
      "metadata": {
        "colab": {
          "base_uri": "https://localhost:8080/"
        },
        "id": "Zad_EIzIN8rY",
        "outputId": "5ab023dd-a803-4dec-8400-23a59bbe5488"
      },
      "execution_count": null,
      "outputs": [
        {
          "output_type": "stream",
          "name": "stdout",
          "text": [
            "El número de nodos puros en el árbol es 7  (Gini = 0,0):\n"
          ]
        }
      ]
    },
    {
      "cell_type": "code",
      "source": [
        "# prompt: count the amount of admitted students in the column \"admitted\"\n",
        "\n",
        "# Assuming YD is a pandas Series or DataFrame column\n",
        "num_admitidos = YD['Admitted'].sum()  # Sum the values in the 'Admitted' column\n",
        "print(f\"El número de estudiantes admitidos es {num_admitidos}\")\n"
      ],
      "metadata": {
        "colab": {
          "base_uri": "https://localhost:8080/"
        },
        "id": "hnUoUi4_TdJB",
        "outputId": "f33f5b08-e19b-4c73-86be-eb4058774a17"
      },
      "execution_count": null,
      "outputs": [
        {
          "output_type": "stream",
          "name": "stdout",
          "text": [
            "El número de estudiantes admitidos es 1303\n"
          ]
        }
      ]
    },
    {
      "cell_type": "markdown",
      "source": [
        "4. **Se procede con el pronóstico de la admisión para los estudiantes en la   base de datos**"
      ],
      "metadata": {
        "id": "_KA-da3xcj4L"
      }
    },
    {
      "cell_type": "code",
      "source": [
        "XDB0=pd.read_excel(nxl, sheet_name=0)\n",
        "XDB0.head(100)\n",
        "#vamos a clasificar los que están en la hoja 1 con los de pronóstico de la hoja 2\n",
        "#Se crea la bd a pronosticar\n",
        "XDB0[\"Gender\"] = XDB0[\"Gender\"].map({\"F\": 0, \"M\": 1})\n",
        "XD0=XDB0[['Edu_Parent1', 'Edu_Parent2', 'Gender', 'White', 'Asian', 'HSGPA', 'SAT/ACT']]\n",
        "YD0=XDB0[['Admitted']]\n",
        "\n",
        "filas = XDB0[(XDB0['Admitted'] == 'No') | (XDB0['Admitted'].isna())].index\n",
        "XD0=np.array(XD0)\n",
        "XD0=XD0[filas]\n",
        "\n",
        "#le calculamos la admisión a los estudiantes\n",
        "y_pred=mar.predict(XD0)\n",
        "print(y_pred)\n",
        "\n",
        "#se crea el informe en excel\n",
        "df=pd.DataFrame(np.column_stack((filas, XD0,y_pred)))\n",
        "#filas donde estan los estudiantes que no fueron admitidos, XD0 los datos de esas personas, y_pred la decisión\n",
        "df.columns=['Solicitante', 'Edu_Parent1', 'Edu_Parent2', 'Gender', 'White', 'Asian', 'HSGPA', 'SAT/ACT','Admitted']\n",
        "df.to_excel(\"Admisión_universidad.xlsx\")"
      ],
      "metadata": {
        "colab": {
          "base_uri": "https://localhost:8080/"
        },
        "id": "U0bWXaLsUJ-K",
        "outputId": "b8a6e446-af29-4b60-c938-0c5863d91c24"
      },
      "execution_count": null,
      "outputs": [
        {
          "output_type": "stream",
          "name": "stderr",
          "text": [
            "/usr/local/lib/python3.11/dist-packages/sklearn/utils/validation.py:2739: UserWarning: X does not have valid feature names, but DecisionTreeClassifier was fitted with feature names\n",
            "  warnings.warn(\n"
          ]
        },
        {
          "output_type": "stream",
          "name": "stdout",
          "text": [
            "[1 1 1 ... 0 1 0]\n"
          ]
        }
      ]
    },
    {
      "cell_type": "markdown",
      "source": [
        "4. **Evaluar el comportamiento del modelo**"
      ],
      "metadata": {
        "id": "mkCdAgHdZPnF"
      }
    },
    {
      "cell_type": "code",
      "source": [
        "ydp=mar.predict(XD) #pronóstico sobre la bd original\n",
        "cm=confusion_matrix(YD,ydp)\n",
        "print(\"La matriz de confusión es:\\n\",cm)\n",
        "VN=cm[0,0];FP=cm[0,1];FN=cm[1,0];VP=cm[1,1]\n",
        "\n",
        "\n",
        "#Métricas de desempeño\n",
        "EX=(VP+VN)/(VP+VN+FP+FN) #Exactitud\n",
        "print('La exactitud del modelo es:\\n',EX)\n",
        "\n",
        "TE=(FN+FP)/(VP+VN+FP+FN) #Tasa de error:\n",
        "print('La tasa de error del modelo es:\\n',TE)\n",
        "\n",
        "SE=VP/(VP+FN) #Sensibilidad\n",
        "print('La sensibilidad del modelo es:\\n',SE)\n",
        "\n",
        "SP=VN/(VN+FP) #Especificidad\n",
        "print('La especificidad del modelo es:\\n',SP)\n",
        "\n",
        "PR=VP/(VP+FP) #Precisión\n",
        "print('La precisión del modelo es:\\n',PR)\n",
        "\n",
        "PRNeng=VN/(VN+FN) #Precisión Negativa\n",
        "print('La precisión negativa del modelo es:\\n',PRNeng)"
      ],
      "metadata": {
        "colab": {
          "base_uri": "https://localhost:8080/"
        },
        "id": "f4_EiEx_Z7rk",
        "outputId": "a36360e0-67d9-4176-ed7c-1fdf66d4b3c6"
      },
      "execution_count": null,
      "outputs": [
        {
          "output_type": "stream",
          "name": "stdout",
          "text": [
            "La matriz de confusión es:\n",
            " [[  20  205]\n",
            " [   2 1301]]\n",
            "La exactitud del modelo es:\n",
            " 0.8645287958115183\n",
            "La tasa de error del modelo es:\n",
            " 0.1354712041884817\n",
            "La sensibilidad del modelo es:\n",
            " 0.9984650805832693\n",
            "La especificidad del modelo es:\n",
            " 0.08888888888888889\n",
            "La precisión del modelo es:\n",
            " 0.8638778220451527\n",
            "La precisión negativa del modelo es:\n",
            " 0.9090909090909091\n"
          ]
        }
      ]
    },
    {
      "cell_type": "markdown",
      "source": [
        "# **Análisis de resultados y del modelo**\n",
        "\n",
        "La matriz de confusión muestra una predominancia en los valores verdaderos positivos (1301), seguido de los valores falsos positivos (205), frente a un total de 1528 datos después de eliminar los valores atípicos. Se destaca que el modelo identificó correctamente 1301 estudiantes admitidos y 20 no admitidos, y se tuvo un total de 1303 admitidos y 225 no admitidos.\n",
        "\n",
        "Inicialmente, el modelo cuenta con una exactitud del 86% aproximadamente, que nos indica el porcentaje de estudiantes que fueron o no admitidos que el modelo predijo correctamente. Con respecto a esto, vemos el modelo idetificó erroneamete solo el 13,4% de los estudiantes.\n",
        "\n",
        "Por otro lado, con la medida de sensibilidad vemos que el modelo identificará correctamente a los estudiantes realmente admitidos en un 99,8%. Pero, al momento de identificar a aquellos que no fueron admitidos, los identificará correctamente solo en un 8%.\n",
        "\n",
        "Esto nos dice que el modelo tiene un un buen comportamiento solo identificando los estudiantes admitidos, más no aquellos que no fueron admitidos, y esto podría representar un problema si se necesita una alta precisión identificando estudiantes no admitidos.\n"
      ],
      "metadata": {
        "id": "I9sJjj4jawbK"
      }
    }
  ]
}