{
  "nbformat": 4,
  "nbformat_minor": 0,
  "metadata": {
    "colab": {
      "provenance": [],
      "authorship_tag": "ABX9TyP8L5Iu2lZyWN/56Y1TCil3",
      "include_colab_link": true
    },
    "kernelspec": {
      "name": "python3",
      "display_name": "Python 3"
    },
    "language_info": {
      "name": "python"
    }
  },
  "cells": [
    {
      "cell_type": "markdown",
      "metadata": {
        "id": "view-in-github",
        "colab_type": "text"
      },
      "source": [
        "<a href=\"https://colab.research.google.com/github/Manuelamejiah/Business-intelligence-/blob/main/Reto_1_Naive_Bayes.ipynb\" target=\"_parent\"><img src=\"https://colab.research.google.com/assets/colab-badge.svg\" alt=\"Open In Colab\"/></a>"
      ]
    },
    {
      "cell_type": "code",
      "execution_count": null,
      "metadata": {
        "id": "Tn8uFV0HCCKg"
      },
      "outputs": [],
      "source": [
        "import pandas as pd\n",
        "import numpy as np"
      ]
    },
    {
      "cell_type": "markdown",
      "source": [
        "**0. Se carga la Base de datos**"
      ],
      "metadata": {
        "id": "NX5Hu4_6DAGk"
      }
    },
    {
      "cell_type": "code",
      "source": [
        "nxl= '/content/1. BD1_Longitudinal Survey_Int.xlsx'\n",
        "XDB =pd.read_excel(nxl,sheet_name=0)"
      ],
      "metadata": {
        "id": "wle9UYp9DUQN"
      },
      "execution_count": null,
      "outputs": []
    },
    {
      "cell_type": "code",
      "source": [
        "# selecciono las variables de interés para el modelo\n",
        "XDB=XDB[['Age', 'Urban','Mother_Edu', 'Father_Edu', 'FamilySize', 'Self_Esteem', 'Height', 'Weight', 'Income']]\n",
        "\n",
        "# Y elimino datos faltantes\n",
        "XDB = XDB.dropna()"
      ],
      "metadata": {
        "id": "wE6itTPPEk8B"
      },
      "execution_count": null,
      "outputs": []
    },
    {
      "cell_type": "code",
      "source": [
        "#Determino el número total de datos después de eliminar los valores faltantes\n",
        "print('Número total de datos después de eliminar valores faltantes:', len(XDB))"
      ],
      "metadata": {
        "colab": {
          "base_uri": "https://localhost:8080/"
        },
        "id": "kXQqr3ZuFmmq",
        "outputId": "f748faae-92d9-4ab6-fbac-4cc1e2b16a32"
      },
      "execution_count": null,
      "outputs": [
        {
          "output_type": "stream",
          "name": "stdout",
          "text": [
            "Número total de datos después de eliminar valores faltantes: 5948\n"
          ]
        }
      ]
    },
    {
      "cell_type": "code",
      "source": [
        "#Determino los % de personas que viven en zonas urbanas y zonas rurales.\n",
        "\n",
        "clasificacion_counts = XDB['Urban'].value_counts()\n",
        "total_datos = len(XDB)\n",
        "\n",
        "porcentajes = (clasificacion_counts / total_datos) * 100\n",
        "\n",
        "print('Porcentaje de datos en cada categoría:\\n',porcentajes)\n",
        "\n"
      ],
      "metadata": {
        "colab": {
          "base_uri": "https://localhost:8080/"
        },
        "id": "C0FF4amOGYnH",
        "outputId": "c816b97c-8b47-4e8a-a576-7f9736d0258a"
      },
      "execution_count": null,
      "outputs": [
        {
          "output_type": "stream",
          "name": "stdout",
          "text": [
            "Porcentaje de datos en cada categoría:\n",
            " Urban\n",
            "1.0    79.169469\n",
            "0.0    20.830531\n",
            "Name: count, dtype: float64\n"
          ]
        }
      ]
    },
    {
      "cell_type": "markdown",
      "source": [
        "El 79,17% de las personas analizadas viven en una zona urbana, mientras que el 20,83% viven en zona rural"
      ],
      "metadata": {
        "id": "Pp1Qx7URHmY8"
      }
    },
    {
      "cell_type": "code",
      "source": [
        "print('Rango de Edad:', (XDB['Age'].min(), XDB['Age'].max()))\n",
        "print('Rango de Altura:', (XDB['Height'].min(), XDB['Height'].max()))\n",
        "print('Rango de Peso:', (XDB['Weight'].min(), XDB['Weight'].max()))"
      ],
      "metadata": {
        "colab": {
          "base_uri": "https://localhost:8080/"
        },
        "id": "fhqXzbhtIIS0",
        "outputId": "ee9f3ec6-cc73-49ca-a46e-24decd164f1f"
      },
      "execution_count": null,
      "outputs": [
        {
          "output_type": "stream",
          "name": "stdout",
          "text": [
            "Rango de Edad: (15, 22)\n",
            "Rango de Altura: (51.0, 80.0)\n",
            "Rango de Peso: (72.0, 375.0)\n"
          ]
        }
      ]
    },
    {
      "cell_type": "markdown",
      "source": [
        "Los intervalos en los que se encuentran las variables de edad, altura y peso son los siguientes:\n",
        "\n",
        "\n",
        "\n",
        "*   Para la variable Edad tenemos un rango entre los 15 y los 22 años\n",
        "*   Para la variable Altura tenemos un rango entre las 51 pulgadas y las 80 pulgadas\n",
        "*   Para la variable peso tenemos un rango entre 72 y 375 libras\n",
        "\n",
        "\n"
      ],
      "metadata": {
        "id": "g-AY-cyqIRMF"
      }
    },
    {
      "cell_type": "code",
      "source": [
        "# Especifico mis variables de entrada y salida\n",
        "XD = XDB[['Age','Mother_Edu', 'Father_Edu', 'FamilySize', 'Self_Esteem', 'Height', 'Weight', 'Income']]\n",
        "yd = XDB[['Urban']]"
      ],
      "metadata": {
        "id": "HFBGsPFvJq1W"
      },
      "execution_count": null,
      "outputs": []
    },
    {
      "cell_type": "markdown",
      "source": [
        "**2. Se procede con la implementación del modelo**"
      ],
      "metadata": {
        "id": "5Uxzk-ztJ5fz"
      }
    },
    {
      "cell_type": "code",
      "source": [
        "from sklearn.naive_bayes import GaussianNB\n",
        "\n",
        "mnb = GaussianNB()\n",
        "mnb.fit(XD, yd)\n",
        "\n",
        "# Obtenemos información del modelo\n",
        "u = mnb.theta_\n",
        "print('La media de las variables es:\\n', u)\n",
        "var = mnb.var_\n",
        "print('La varianza de las variables es:\\n', var)\n",
        "sigma = np.sqrt(var)\n",
        "print('La desviación estándar de las variables es:\\n', sigma)\n",
        "\n",
        "#Así mismo, identificamos límites superiores e inferiores\n",
        "LS = u + sigma\n",
        "print('Límite superior:\\n', LS)\n",
        "LI = u - sigma\n",
        "print('Límite inferior:\\n', LI)\n"
      ],
      "metadata": {
        "colab": {
          "base_uri": "https://localhost:8080/"
        },
        "id": "3A0E8lLhJ_E_",
        "outputId": "4985225c-87db-4692-ef22-74eacf600ffc"
      },
      "execution_count": null,
      "outputs": [
        {
          "output_type": "stream",
          "name": "stdout",
          "text": [
            "La media de las variables es:\n",
            " [[1.83640032e+01 1.07312349e+01 1.02711864e+01 4.73930589e+00\n",
            "  2.19951574e+01 6.72429379e+01 1.49003228e+02 3.01248854e+04]\n",
            " [1.83618603e+01 1.11613931e+01 1.12331705e+01 4.68103631e+00\n",
            "  2.25744319e+01 6.69116585e+01 1.44750903e+02 3.32736742e+04]]\n",
            "La varianza de las variables es:\n",
            " [[6.11377773e+00 9.96419474e+00 1.51194652e+01 6.51406931e+00\n",
            "  1.77789403e+01 1.66650620e+01 9.21039647e+02 1.00161093e+09]\n",
            " [6.11792319e+00 1.15645045e+01 1.69373304e+01 5.96364977e+00\n",
            "  1.76201044e+01 1.76562243e+01 9.01712618e+02 1.30246862e+09]]\n",
            "La desviación estándar de las variables es:\n",
            " [[2.47260545e+00 3.15661127e+00 3.88837565e+00 2.55226748e+00\n",
            "  4.21650807e+00 4.08228636e+00 3.03486350e+01 3.16482374e+04]\n",
            " [2.47344359e+00 3.40066236e+00 4.11549881e+00 2.44205851e+00\n",
            "  4.19763081e+00 4.20193102e+00 3.00285301e+01 3.60897302e+04]]\n",
            "Límite superior:\n",
            " [[2.08366087e+01 1.38878461e+01 1.41595621e+01 7.29157338e+00\n",
            "  2.62116655e+01 7.13252242e+01 1.79351863e+02 6.17731228e+04]\n",
            " [2.08353039e+01 1.45620554e+01 1.53486693e+01 7.12309482e+00\n",
            "  2.67720628e+01 7.11135895e+01 1.74779433e+02 6.93634044e+04]]\n",
            "Límite inferior:\n",
            " [[ 1.58913978e+01  7.57462359e+00  6.38281079e+00  2.18703841e+00\n",
            "   1.77786493e+01  6.31606515e+01  1.18654593e+02 -1.52335198e+03]\n",
            " [ 1.58884167e+01  7.76073072e+00  7.11767172e+00  2.23897780e+00\n",
            "   1.83768011e+01  6.27097275e+01  1.14722372e+02 -2.81605593e+03]]\n"
          ]
        },
        {
          "output_type": "stream",
          "name": "stderr",
          "text": [
            "/usr/local/lib/python3.11/dist-packages/sklearn/utils/validation.py:1408: DataConversionWarning: A column-vector y was passed when a 1d array was expected. Please change the shape of y to (n_samples, ), for example using ravel().\n",
            "  y = column_or_1d(y, warn=True)\n"
          ]
        }
      ]
    },
    {
      "cell_type": "code",
      "source": [
        "#Evaluamos el modelo con un individuo\n",
        "XDS = [[34, 12, 15, 2, 24, 69, 160, 48000]]\n",
        "ydp = mnb.predict(XDS)\n",
        "print('La predicción del individuo es: \\n',ydp)\n",
        "\n",
        "if ydp==0:\n",
        "  print('El solicitante vive en área rural')\n",
        "\n",
        "if ydp==1:\n",
        "  print('El solicitante vive en área urbana')"
      ],
      "metadata": {
        "colab": {
          "base_uri": "https://localhost:8080/"
        },
        "id": "wEBNCOOZKCuX",
        "outputId": "8b22d0ad-da34-4df5-de51-8f4255354333"
      },
      "execution_count": null,
      "outputs": [
        {
          "output_type": "stream",
          "name": "stdout",
          "text": [
            "La predicción del individuo es: \n",
            " [1.]\n",
            "El solicitante vive en área urbana\n"
          ]
        },
        {
          "output_type": "stream",
          "name": "stderr",
          "text": [
            "/usr/local/lib/python3.11/dist-packages/sklearn/utils/validation.py:2739: UserWarning: X does not have valid feature names, but GaussianNB was fitted with feature names\n",
            "  warnings.warn(\n"
          ]
        }
      ]
    },
    {
      "cell_type": "markdown",
      "source": [
        "A partir del modelo, con las siguientes características:\n",
        "\n",
        "\n",
        "*   Edad:34\n",
        "*   Educación de la madre: 12\n",
        "*   Educación del padre: 15\n",
        "*   Número de integrantes de la familia: 2\n",
        "*  Autoestima: 24\n",
        "*   Altura: 69\n",
        "*   Peso: 160\n",
        "*   Igresos: 48000\n",
        "\n",
        "se determina que el individuo estudiado vive en zona **urbana**\n",
        "\n",
        "\n",
        "\n",
        "\n",
        "\n",
        "\n",
        "\n"
      ],
      "metadata": {
        "id": "AUsoz1IVMYJQ"
      }
    },
    {
      "cell_type": "markdown",
      "source": [
        "**3. Matriz de confusión**"
      ],
      "metadata": {
        "id": "5uoIhoP-LKjD"
      }
    },
    {
      "cell_type": "code",
      "source": [
        "from sklearn.metrics import confusion_matrix\n",
        "\n",
        "#Hacemos un barrido de los datos\n",
        "ydp2=mnb.predict(XD) #hacemos el pronóstico para todos los datos base\n",
        "cm=confusion_matrix(yd,ydp2) #crea la matriz de confusión\n",
        "print(\"La matriz de confusión es: \\n\",cm)\n",
        "VN=cm[0,0];FP=cm[0,1];FN=cm[1,0];VP=cm[1,1]\n",
        "\n",
        "#PRIMERA MÉTRICA\n",
        "#exactitud: como le fue al modelo determinando si vivía en zona rural o urbana\n",
        "Ex=(VP+VN)/(VP+VN+FP+FN)\n",
        "print(\"La exactitud del modelo es: \\n\",Ex)\n",
        "#todas las métricas que me den por encima del 75% es bueno.\n",
        "\n",
        "#tasa de error: mal funcionamiento o error del modelo\n",
        "TE=(FP+FN)/(VP+VN+FP+FN)\n",
        "print(\"La tasa de error del modelo es: \\n\",TE)\n",
        "\n",
        "SE=VP/(VP+FN) #Sensibilidad\n",
        "print('La sensibilidad del modelo es:\\n',SE)\n",
        "\n",
        "SP=VN/(VN+FP) #Especificidad\n",
        "print('La especificidad del modelo es:\\n',SP)\n",
        "\n",
        "PR=VP/(VP+FP) #Precisión\n",
        "print('La precisión del modelo es:\\n',PR)\n",
        "\n",
        "PRNeng=VN/(VN+FN) #Precisión Negativa\n",
        "print('La precisión negativa del modelo es:\\n',PRNeng)"
      ],
      "metadata": {
        "colab": {
          "base_uri": "https://localhost:8080/"
        },
        "id": "iI5hx2jYLPIS",
        "outputId": "c0d3dd5b-d165-43d2-fd00-38864fc89681"
      },
      "execution_count": null,
      "outputs": [
        {
          "output_type": "stream",
          "name": "stdout",
          "text": [
            "La matriz de confusión es: \n",
            " [[   3 1236]\n",
            " [   8 4701]]\n",
            "La exactitud del modelo es: \n",
            " 0.7908540685944856\n",
            "La tasa de error del modelo es: \n",
            " 0.20914593140551446\n",
            "La sensibilidad del modelo es:\n",
            " 0.9983011255043533\n",
            "La especificidad del modelo es:\n",
            " 0.002421307506053269\n",
            "La precisión del modelo es:\n",
            " 0.7918140474987367\n",
            "La precisión negativa del modelo es:\n",
            " 0.2727272727272727\n"
          ]
        }
      ]
    },
    {
      "cell_type": "markdown",
      "source": [
        "A partir de la matriz de confusión se determina que:\n",
        "\n",
        "\n",
        "\n",
        "1. La exactitud alcanzada por el modelo fue del 79,08%, lo cual representa un buen comportamiento del modelo.\n",
        "\n",
        "2. La tasa de error alcanzada por el modelo fue de 20,09%\n",
        "\n",
        "\n",
        "3.  La Sensibilidad alcanzada por el modelo fue del 99,83%, lo que demuestra que hubo una muy buena clasificación de las personas que viven en zonas urbanas\n",
        "4.  La Especificidad alcanzada por el modelo fue del 0,24%, lo que sugiere que el modelo no clasifica correctamente las personas que viven en zonas rurales\n",
        "\n",
        "\n"
      ],
      "metadata": {
        "id": "oq3QDfMJNnns"
      }
    },
    {
      "cell_type": "markdown",
      "source": [
        "**Análisis de resultados**\n",
        "\n",
        "De acuerdo con la base de datos se tomaron como referencia para determinar si una persona residía en una zona urbana o rural las variables de Edad,\n",
        "Educación de la madre,\n",
        "Educación del padre,\n",
        "Número de integrantes de la familia,\n",
        "Autoestima, Altura, Peso e Igresos. Tras una limpieza de datos faltantes, la base de datos quedó con un total de 5948 datos, que se dividían en un 79,17% habitantes de zonas urbanas y 20,83% de zonas rurales.\n",
        "\n",
        "Al momento de realizar la matriz de confusión para analizar el desempeño del modelo obtenemos resultados muy positivos en los puntos de exactitud, tasa de error y sensibilidad, las cuales obtuvieron unos porcentajes del 79,08%, 20,09% y 99,03% respectivamente, lo que significaría un comportamiento muy aceptable frente a la identificación de quienes viven en zonas rurales. Pero, al evaluar el indicador de especificdad nos damos cuenta que este obtuvo un 0,24% lo que nos dice que al momento de identificar personas que viven en zonas rurales, el modelo falla y no logra identicarlas en su totalidad, haciendo que se tengan malas clasificaciones, y por ende un mal análisis, lo cual terminamos de corroborar con el indicadore de precisión negativa, que nos arroja una precisión del 27,7% al momento de identificar a personas que viven en zonas rurales.\n",
        "\n",
        "Con esto, podemos decir que el modelo no es muy confiable para la clasificación, principalmente de personas que viven en zonas rurales, y que tal vez es necesario evaluar los datos y modificar el modelo.\n"
      ],
      "metadata": {
        "id": "kQd2KUpfRCr4"
      }
    }
  ]
}